{
 "cells": [
  {
   "cell_type": "markdown",
   "metadata": {},
   "source": [
    "Seaborn es una librería construida sobre Matplotlib, por lo que hereda todas las bondades de la misma. Fue escrita por Michael Waskom y está integrada para estructuras de Pandas por lo que está optimizada para funcionar con DataFrames.\n",
    "\n",
    "##### Cuáles son las ventajas de Seaborn\n",
    "Seaborn tiene diferentes ventajas y entre ellas encuentras principalmente:  \n",
    "\n",
    "* Tiene una gran velocidad  \n",
    "* Facilidad para escribir código  \n",
    "* Altamente customizable entre gráficas y visualizaciones  \n",
    "##### Cuál es la estructura Básica de Seaborn"
   ]
  },
  {
   "cell_type": "code",
   "execution_count": null,
   "metadata": {
    "vscode": {
     "languageId": "plaintext"
    }
   },
   "outputs": [],
   "source": [
    "sns.'Tipo de Grafica'(\n",
    "\t\t data='Dataset',\n",
    "\t\t x='Data en el eje x',\n",
    "\t\t y='Data en el eje y',\n",
    "\t\t hue='Variable de agrupamiento')"
   ]
  },
  {
   "cell_type": "markdown",
   "metadata": {},
   "source": [
    "## Tipos de Gráficas que tiene Seaborn\n",
    "Seaborn ofrece ciertas características principales para problemas específicos de visualización de datos:\n",
    "\n",
    "* Diagramas o gráficas relacionables\n",
    "* Distribución de datos\n",
    "* Graficar variables categóricas  \n",
    "\n",
    "#### Por ejemplo:\n",
    "\n",
    "* Relplot (relacional): scatterplot, lineplot.\n",
    "* Displot (distribuciones): histplot, kdeplot, ecdfplot, rugplot.\n",
    "* Catplot (categorica): stripplot, swamplot, boxplot, violinplot, pointplot, barplot."
   ]
  }
 ],
 "metadata": {
  "language_info": {
   "name": "python"
  },
  "orig_nbformat": 4
 },
 "nbformat": 4,
 "nbformat_minor": 2
}
